{
 "cells": [
  {
   "cell_type": "code",
   "execution_count": null,
   "id": "22eab6db",
   "metadata": {},
   "outputs": [],
   "source": [
    "import numpy as np # linear algebra\n",
    "import pandas as pd # data processing, CSV file I/O (e.g. pd.read_csv)\n",
    "import matplotlib.pyplot as plt"
   ]
  },
  {
   "cell_type": "code",
   "execution_count": 27,
   "id": "cc605141",
   "metadata": {},
   "outputs": [
    {
     "name": "stdout",
     "output_type": "stream",
     "text": [
      "                 SUBDIVISION  YEAR   JAN    FEB   MAR    APR    MAY    JUN  \\\n",
      "0  ANDAMAN & NICOBAR ISLANDS  1901  49.2   87.1  29.2    2.3  528.8  517.5   \n",
      "1  ANDAMAN & NICOBAR ISLANDS  1902   0.0  159.8  12.2    0.0  446.1  537.1   \n",
      "2  ANDAMAN & NICOBAR ISLANDS  1903  12.7  144.0   0.0    1.0  235.1  479.9   \n",
      "3  ANDAMAN & NICOBAR ISLANDS  1904   9.4   14.7   0.0  202.4  304.5  495.1   \n",
      "4  ANDAMAN & NICOBAR ISLANDS  1905   1.3    0.0   3.3   26.9  279.5  628.7   \n",
      "\n",
      "     JUL    AUG    SEP    OCT    NOV    DEC  ANNUAL  Jan-Feb  Mar-May  \\\n",
      "0  365.1  481.1  332.6  388.5  558.2   33.6  3373.2    136.3    560.3   \n",
      "1  228.9  753.7  666.2  197.2  359.0  160.5  3520.7    159.8    458.3   \n",
      "2  728.4  326.7  339.0  181.2  284.4  225.0  2957.4    156.7    236.1   \n",
      "3  502.0  160.1  820.4  222.2  308.7   40.1  3079.6     24.1    506.9   \n",
      "4  368.7  330.5  297.0  260.7   25.4  344.7  2566.7      1.3    309.7   \n",
      "\n",
      "   Jun-Sep  Oct-Dec  \n",
      "0   1696.3    980.3  \n",
      "1   2185.9    716.7  \n",
      "2   1874.0    690.6  \n",
      "3   1977.6    571.0  \n",
      "4   1624.9    630.8  \n"
     ]
    }
   ],
   "source": [
    "raindata = pd.read_csv(r\"C:\\Users\\Dron\\Downloads\\rainfall in india 1901-2015.csv\")\n",
    "print(raindata.head())"
   ]
  },
  {
   "cell_type": "code",
   "execution_count": 28,
   "id": "f4f17a98",
   "metadata": {},
   "outputs": [
    {
     "name": "stdout",
     "output_type": "stream",
     "text": [
      "Index(['SUBDIVISION', 'YEAR', 'JAN', 'FEB', 'MAR', 'APR', 'MAY', 'JUN', 'JUL',\n",
      "       'AUG', 'SEP', 'OCT', 'NOV', 'DEC', 'ANNUAL', 'Jan-Feb', 'Mar-May',\n",
      "       'Jun-Sep', 'Oct-Dec'],\n",
      "      dtype='object')\n",
      "{'GUJARAT REGION', 'EAST RAJASTHAN', 'BIHAR', 'ASSAM & MEGHALAYA', 'MADHYA MAHARASHTRA', 'UTTARAKHAND', 'VIDARBHA', 'GANGETIC WEST BENGAL', 'COASTAL KARNATAKA', 'EAST UTTAR PRADESH', 'RAYALSEEMA', 'NORTH INTERIOR KARNATAKA', 'PUNJAB', 'TAMIL NADU', 'WEST UTTAR PRADESH', 'CHHATTISGARH', 'COASTAL ANDHRA PRADESH', 'KERALA', 'SUB HIMALAYAN WEST BENGAL & SIKKIM', 'ORISSA', 'NAGA MANI MIZO TRIPURA', 'EAST MADHYA PRADESH', 'LAKSHADWEEP', 'KONKAN & GOA', 'HARYANA DELHI & CHANDIGARH', 'SOUTH INTERIOR KARNATAKA', 'WEST MADHYA PRADESH', 'MATATHWADA', 'HIMACHAL PRADESH', 'WEST RAJASTHAN', 'JHARKHAND', 'SAURASHTRA & KUTCH', 'TELANGANA', 'ANDAMAN & NICOBAR ISLANDS', 'ARUNACHAL PRADESH', 'JAMMU & KASHMIR'}\n"
     ]
    }
   ],
   "source": [
    "print(raindata.columns)\n",
    "print(set(raindata['SUBDIVISION']))"
   ]
  },
  {
   "cell_type": "code",
   "execution_count": 29,
   "id": "f96054e1",
   "metadata": {},
   "outputs": [],
   "source": [
    "valid_states_rain = raindata[(raindata['SUBDIVISION']=='BIHAR') | (raindata['SUBDIVISION']=='KERALA') | (raindata['SUBDIVISION']=='ARUNACHAL PRADESH')|(raindata['SUBDIVISION']=='TAMIL NADU')|(raindata['SUBDIVISION']=='JAMMU & KASHMIR')|(raindata['SUBDIVISION']=='UTTARAKHAND')|(raindata['SUBDIVISION']=='ORISSA')|(raindata['SUBDIVISION']=='HIMACHAL PRADESH')|(raindata['SUBDIVISION']=='LAKSHADWEEP')|(raindata['SUBDIVISION']=='PUNJAB')|(raindata['SUBDIVISION']=='CHHATTISGARH')|(raindata['SUBDIVISION']=='ANDAMAN & NICOBAR ISLANDS')|(raindata['SUBDIVISION']=='JHARKHAND')]"
   ]
  },
  {
   "cell_type": "code",
   "execution_count": 30,
   "id": "2c7042a4",
   "metadata": {},
   "outputs": [
    {
     "name": "stdout",
     "output_type": "stream",
     "text": [
      "{'HIMACHAL PRADESH', 'LAKSHADWEEP', 'TAMIL NADU', 'BIHAR', 'UTTARAKHAND', 'CHHATTISGARH', 'JHARKHAND', 'KERALA', 'ORISSA', 'ANDAMAN & NICOBAR ISLANDS', 'ARUNACHAL PRADESH', 'JAMMU & KASHMIR', 'PUNJAB'}\n",
      "                 SUBDIVISION  YEAR   JAN    FEB   MAR    APR    MAY    JUN  \\\n",
      "0  ANDAMAN & NICOBAR ISLANDS  1901  49.2   87.1  29.2    2.3  528.8  517.5   \n",
      "1  ANDAMAN & NICOBAR ISLANDS  1902   0.0  159.8  12.2    0.0  446.1  537.1   \n",
      "2  ANDAMAN & NICOBAR ISLANDS  1903  12.7  144.0   0.0    1.0  235.1  479.9   \n",
      "3  ANDAMAN & NICOBAR ISLANDS  1904   9.4   14.7   0.0  202.4  304.5  495.1   \n",
      "4  ANDAMAN & NICOBAR ISLANDS  1905   1.3    0.0   3.3   26.9  279.5  628.7   \n",
      "\n",
      "     JUL    AUG    SEP    OCT    NOV    DEC  ANNUAL  Jan-Feb  Mar-May  \\\n",
      "0  365.1  481.1  332.6  388.5  558.2   33.6  3373.2    136.3    560.3   \n",
      "1  228.9  753.7  666.2  197.2  359.0  160.5  3520.7    159.8    458.3   \n",
      "2  728.4  326.7  339.0  181.2  284.4  225.0  2957.4    156.7    236.1   \n",
      "3  502.0  160.1  820.4  222.2  308.7   40.1  3079.6     24.1    506.9   \n",
      "4  368.7  330.5  297.0  260.7   25.4  344.7  2566.7      1.3    309.7   \n",
      "\n",
      "   Jun-Sep  Oct-Dec  \n",
      "0   1696.3    980.3  \n",
      "1   2185.9    716.7  \n",
      "2   1874.0    690.6  \n",
      "3   1977.6    571.0  \n",
      "4   1624.9    630.8  \n",
      "                 SUBDIVISION  YEAR  ANNUAL\n",
      "0  ANDAMAN & NICOBAR ISLANDS  1901  3373.2\n",
      "1  ANDAMAN & NICOBAR ISLANDS  1902  3520.7\n",
      "2  ANDAMAN & NICOBAR ISLANDS  1903  2957.4\n",
      "3  ANDAMAN & NICOBAR ISLANDS  1904  3079.6\n",
      "4  ANDAMAN & NICOBAR ISLANDS  1905  2566.7\n",
      "              YEAR       ANNUAL\n",
      "count  1471.000000  1447.000000\n",
      "mean   1958.611829  1623.911956\n",
      "std      33.037181   881.150476\n",
      "min    1901.000000   274.700000\n",
      "25%    1930.000000  1087.500000\n",
      "50%    1959.000000  1369.600000\n",
      "75%    1987.000000  1781.850000\n",
      "max    2015.000000  6331.100000\n"
     ]
    }
   ],
   "source": [
    "print(set(valid_states_rain['SUBDIVISION']))\n",
    "print(valid_states_rain.head())\n",
    "valid_states_rain = valid_states_rain[['SUBDIVISION','YEAR','ANNUAL']]\n",
    "print(valid_states_rain.head())\n",
    "print(valid_states_rain.describe())"
   ]
  },
  {
   "cell_type": "code",
   "execution_count": 31,
   "id": "a785a48c",
   "metadata": {},
   "outputs": [],
   "source": [
    "valid_states_rain = valid_states_rain[valid_states_rain['YEAR']>1996]"
   ]
  },
  {
   "cell_type": "code",
   "execution_count": 32,
   "id": "efcfc187",
   "metadata": {},
   "outputs": [],
   "source": [
    "valid_states_rain.columns = ['State','Year','Rainfall']"
   ]
  },
  {
   "cell_type": "code",
   "execution_count": 33,
   "id": "16dae627",
   "metadata": {},
   "outputs": [
    {
     "data": {
      "text/html": [
       "<div>\n",
       "<style scoped>\n",
       "    .dataframe tbody tr th:only-of-type {\n",
       "        vertical-align: middle;\n",
       "    }\n",
       "\n",
       "    .dataframe tbody tr th {\n",
       "        vertical-align: top;\n",
       "    }\n",
       "\n",
       "    .dataframe thead th {\n",
       "        text-align: right;\n",
       "    }\n",
       "</style>\n",
       "<table border=\"1\" class=\"dataframe\">\n",
       "  <thead>\n",
       "    <tr style=\"text-align: right;\">\n",
       "      <th></th>\n",
       "      <th>State</th>\n",
       "      <th>Year</th>\n",
       "      <th>Rainfall</th>\n",
       "    </tr>\n",
       "  </thead>\n",
       "  <tbody>\n",
       "    <tr>\n",
       "      <th>91</th>\n",
       "      <td>ANDAMAN &amp; NICOBAR ISLANDS</td>\n",
       "      <td>1997</td>\n",
       "      <td>2755.1</td>\n",
       "    </tr>\n",
       "    <tr>\n",
       "      <th>92</th>\n",
       "      <td>ANDAMAN &amp; NICOBAR ISLANDS</td>\n",
       "      <td>1998</td>\n",
       "      <td>2846.4</td>\n",
       "    </tr>\n",
       "    <tr>\n",
       "      <th>93</th>\n",
       "      <td>ANDAMAN &amp; NICOBAR ISLANDS</td>\n",
       "      <td>1999</td>\n",
       "      <td>2699.7</td>\n",
       "    </tr>\n",
       "    <tr>\n",
       "      <th>94</th>\n",
       "      <td>ANDAMAN &amp; NICOBAR ISLANDS</td>\n",
       "      <td>2000</td>\n",
       "      <td>2763.2</td>\n",
       "    </tr>\n",
       "    <tr>\n",
       "      <th>95</th>\n",
       "      <td>ANDAMAN &amp; NICOBAR ISLANDS</td>\n",
       "      <td>2001</td>\n",
       "      <td>3080.9</td>\n",
       "    </tr>\n",
       "    <tr>\n",
       "      <th>...</th>\n",
       "      <td>...</td>\n",
       "      <td>...</td>\n",
       "      <td>...</td>\n",
       "    </tr>\n",
       "    <tr>\n",
       "      <th>4111</th>\n",
       "      <td>LAKSHADWEEP</td>\n",
       "      <td>2011</td>\n",
       "      <td>1533.7</td>\n",
       "    </tr>\n",
       "    <tr>\n",
       "      <th>4112</th>\n",
       "      <td>LAKSHADWEEP</td>\n",
       "      <td>2012</td>\n",
       "      <td>1405.5</td>\n",
       "    </tr>\n",
       "    <tr>\n",
       "      <th>4113</th>\n",
       "      <td>LAKSHADWEEP</td>\n",
       "      <td>2013</td>\n",
       "      <td>1426.3</td>\n",
       "    </tr>\n",
       "    <tr>\n",
       "      <th>4114</th>\n",
       "      <td>LAKSHADWEEP</td>\n",
       "      <td>2014</td>\n",
       "      <td>1395.0</td>\n",
       "    </tr>\n",
       "    <tr>\n",
       "      <th>4115</th>\n",
       "      <td>LAKSHADWEEP</td>\n",
       "      <td>2015</td>\n",
       "      <td>1642.9</td>\n",
       "    </tr>\n",
       "  </tbody>\n",
       "</table>\n",
       "<p>247 rows × 3 columns</p>\n",
       "</div>"
      ],
      "text/plain": [
       "                          State  Year  Rainfall\n",
       "91    ANDAMAN & NICOBAR ISLANDS  1997    2755.1\n",
       "92    ANDAMAN & NICOBAR ISLANDS  1998    2846.4\n",
       "93    ANDAMAN & NICOBAR ISLANDS  1999    2699.7\n",
       "94    ANDAMAN & NICOBAR ISLANDS  2000    2763.2\n",
       "95    ANDAMAN & NICOBAR ISLANDS  2001    3080.9\n",
       "...                         ...   ...       ...\n",
       "4111                LAKSHADWEEP  2011    1533.7\n",
       "4112                LAKSHADWEEP  2012    1405.5\n",
       "4113                LAKSHADWEEP  2013    1426.3\n",
       "4114                LAKSHADWEEP  2014    1395.0\n",
       "4115                LAKSHADWEEP  2015    1642.9\n",
       "\n",
       "[247 rows x 3 columns]"
      ]
     },
     "execution_count": 33,
     "metadata": {},
     "output_type": "execute_result"
    }
   ],
   "source": [
    "valid_states_rain\n"
   ]
  },
  {
   "cell_type": "code",
   "execution_count": 34,
   "id": "4768a036",
   "metadata": {},
   "outputs": [],
   "source": [
    "cropdata = pd.read_csv(r\"C:\\Users\\Dron\\OneDrive\\Desktop\\crop_production.csv\")"
   ]
  },
  {
   "cell_type": "code",
   "execution_count": 35,
   "id": "257eb207",
   "metadata": {},
   "outputs": [
    {
     "name": "stdout",
     "output_type": "stream",
     "text": [
      "{'Andaman and Nicobar Islands', 'Maharashtra', 'Uttarakhand', 'Jammu and Kashmir ', 'Puducherry', 'Madhya Pradesh', 'Goa', 'Chandigarh', 'Rajasthan', 'Tamil Nadu', 'Uttar Pradesh', 'West Bengal', 'Jharkhand', 'Assam', 'Punjab', 'Himachal Pradesh', 'Telangana ', 'Dadra and Nagar Haveli', 'Andhra Pradesh', 'Meghalaya', 'Sikkim', 'Karnataka', 'Chhattisgarh', 'Odisha', 'Kerala', 'Gujarat', 'Manipur', 'Tripura', 'Arunachal Pradesh', 'Mizoram', 'Bihar', 'Nagaland', 'Haryana'}\n"
     ]
    }
   ],
   "source": [
    "print(set(cropdata['State_Name']))"
   ]
  },
  {
   "cell_type": "code",
   "execution_count": 36,
   "id": "3025275b",
   "metadata": {},
   "outputs": [],
   "source": [
    "valid_states_crop = cropdata[(cropdata['State_Name'] == 'Bihar') | (cropdata['State_Name'] == 'Kerala') | (cropdata['State_Name'] == 'Arunachal Pradesh') | (cropdata['State_Name'] == 'Tamil Nadu') | (cropdata['State_Name'] == 'Jammu and Kashmir ') | (cropdata['State_Name'] == 'Uttarakhand') | (\n",
    "    cropdata['State_Name'] == 'Odisha') | (cropdata['State_Name'] == 'Himachal Pradesh') | (cropdata['State_Name'] == 'Punjab') | (cropdata['State_Name'] == 'Chhattisgarh') | (cropdata['State_Name'] == 'Andaman and Nicobar Islands') | (cropdata['State_Name'] == 'Jharkhand')]\n"
   ]
  },
  {
   "cell_type": "code",
   "execution_count": 37,
   "id": "cc39970f",
   "metadata": {},
   "outputs": [
    {
     "data": {
      "text/html": [
       "<div>\n",
       "<style scoped>\n",
       "    .dataframe tbody tr th:only-of-type {\n",
       "        vertical-align: middle;\n",
       "    }\n",
       "\n",
       "    .dataframe tbody tr th {\n",
       "        vertical-align: top;\n",
       "    }\n",
       "\n",
       "    .dataframe thead th {\n",
       "        text-align: right;\n",
       "    }\n",
       "</style>\n",
       "<table border=\"1\" class=\"dataframe\">\n",
       "  <thead>\n",
       "    <tr style=\"text-align: right;\">\n",
       "      <th></th>\n",
       "      <th>State_Name</th>\n",
       "      <th>District_Name</th>\n",
       "      <th>Crop_Year</th>\n",
       "      <th>Season</th>\n",
       "      <th>Crop</th>\n",
       "      <th>Area</th>\n",
       "      <th>Production</th>\n",
       "    </tr>\n",
       "  </thead>\n",
       "  <tbody>\n",
       "    <tr>\n",
       "      <th>0</th>\n",
       "      <td>Andaman and Nicobar Islands</td>\n",
       "      <td>NICOBARS</td>\n",
       "      <td>2000</td>\n",
       "      <td>Kharif</td>\n",
       "      <td>Arecanut</td>\n",
       "      <td>1254.0</td>\n",
       "      <td>2000.0</td>\n",
       "    </tr>\n",
       "    <tr>\n",
       "      <th>1</th>\n",
       "      <td>Andaman and Nicobar Islands</td>\n",
       "      <td>NICOBARS</td>\n",
       "      <td>2000</td>\n",
       "      <td>Kharif</td>\n",
       "      <td>Other Kharif pulses</td>\n",
       "      <td>2.0</td>\n",
       "      <td>1.0</td>\n",
       "    </tr>\n",
       "    <tr>\n",
       "      <th>2</th>\n",
       "      <td>Andaman and Nicobar Islands</td>\n",
       "      <td>NICOBARS</td>\n",
       "      <td>2000</td>\n",
       "      <td>Kharif</td>\n",
       "      <td>Rice</td>\n",
       "      <td>102.0</td>\n",
       "      <td>321.0</td>\n",
       "    </tr>\n",
       "    <tr>\n",
       "      <th>3</th>\n",
       "      <td>Andaman and Nicobar Islands</td>\n",
       "      <td>NICOBARS</td>\n",
       "      <td>2000</td>\n",
       "      <td>Whole Year</td>\n",
       "      <td>Banana</td>\n",
       "      <td>176.0</td>\n",
       "      <td>641.0</td>\n",
       "    </tr>\n",
       "    <tr>\n",
       "      <th>4</th>\n",
       "      <td>Andaman and Nicobar Islands</td>\n",
       "      <td>NICOBARS</td>\n",
       "      <td>2000</td>\n",
       "      <td>Whole Year</td>\n",
       "      <td>Cashewnut</td>\n",
       "      <td>720.0</td>\n",
       "      <td>165.0</td>\n",
       "    </tr>\n",
       "    <tr>\n",
       "      <th>...</th>\n",
       "      <td>...</td>\n",
       "      <td>...</td>\n",
       "      <td>...</td>\n",
       "      <td>...</td>\n",
       "      <td>...</td>\n",
       "      <td>...</td>\n",
       "      <td>...</td>\n",
       "    </tr>\n",
       "    <tr>\n",
       "      <th>236473</th>\n",
       "      <td>Uttarakhand</td>\n",
       "      <td>UTTAR KASHI</td>\n",
       "      <td>2014</td>\n",
       "      <td>Whole Year</td>\n",
       "      <td>Onion</td>\n",
       "      <td>26.0</td>\n",
       "      <td>172.0</td>\n",
       "    </tr>\n",
       "    <tr>\n",
       "      <th>236474</th>\n",
       "      <td>Uttarakhand</td>\n",
       "      <td>UTTAR KASHI</td>\n",
       "      <td>2014</td>\n",
       "      <td>Whole Year</td>\n",
       "      <td>Pulses total</td>\n",
       "      <td>5346.0</td>\n",
       "      <td>4630.0</td>\n",
       "    </tr>\n",
       "    <tr>\n",
       "      <th>236475</th>\n",
       "      <td>Uttarakhand</td>\n",
       "      <td>UTTAR KASHI</td>\n",
       "      <td>2014</td>\n",
       "      <td>Whole Year</td>\n",
       "      <td>Rice</td>\n",
       "      <td>9919.0</td>\n",
       "      <td>16499.0</td>\n",
       "    </tr>\n",
       "    <tr>\n",
       "      <th>236476</th>\n",
       "      <td>Uttarakhand</td>\n",
       "      <td>UTTAR KASHI</td>\n",
       "      <td>2014</td>\n",
       "      <td>Whole Year</td>\n",
       "      <td>Sunflower</td>\n",
       "      <td>3.0</td>\n",
       "      <td>3.0</td>\n",
       "    </tr>\n",
       "    <tr>\n",
       "      <th>236477</th>\n",
       "      <td>Uttarakhand</td>\n",
       "      <td>UTTAR KASHI</td>\n",
       "      <td>2014</td>\n",
       "      <td>Whole Year</td>\n",
       "      <td>Total foodgrain</td>\n",
       "      <td>35417.0</td>\n",
       "      <td>49689.0</td>\n",
       "    </tr>\n",
       "  </tbody>\n",
       "</table>\n",
       "<p>77189 rows × 7 columns</p>\n",
       "</div>"
      ],
      "text/plain": [
       "                         State_Name District_Name  Crop_Year       Season  \\\n",
       "0       Andaman and Nicobar Islands      NICOBARS       2000  Kharif        \n",
       "1       Andaman and Nicobar Islands      NICOBARS       2000  Kharif        \n",
       "2       Andaman and Nicobar Islands      NICOBARS       2000  Kharif        \n",
       "3       Andaman and Nicobar Islands      NICOBARS       2000  Whole Year    \n",
       "4       Andaman and Nicobar Islands      NICOBARS       2000  Whole Year    \n",
       "...                             ...           ...        ...          ...   \n",
       "236473                  Uttarakhand   UTTAR KASHI       2014  Whole Year    \n",
       "236474                  Uttarakhand   UTTAR KASHI       2014  Whole Year    \n",
       "236475                  Uttarakhand   UTTAR KASHI       2014  Whole Year    \n",
       "236476                  Uttarakhand   UTTAR KASHI       2014  Whole Year    \n",
       "236477                  Uttarakhand   UTTAR KASHI       2014  Whole Year    \n",
       "\n",
       "                       Crop     Area  Production  \n",
       "0                  Arecanut   1254.0      2000.0  \n",
       "1       Other Kharif pulses      2.0         1.0  \n",
       "2                      Rice    102.0       321.0  \n",
       "3                    Banana    176.0       641.0  \n",
       "4                 Cashewnut    720.0       165.0  \n",
       "...                     ...      ...         ...  \n",
       "236473                Onion     26.0       172.0  \n",
       "236474         Pulses total   5346.0      4630.0  \n",
       "236475                 Rice   9919.0     16499.0  \n",
       "236476            Sunflower      3.0         3.0  \n",
       "236477      Total foodgrain  35417.0     49689.0  \n",
       "\n",
       "[77189 rows x 7 columns]"
      ]
     },
     "execution_count": 37,
     "metadata": {},
     "output_type": "execute_result"
    }
   ],
   "source": [
    "valid_states_crop"
   ]
  },
  {
   "cell_type": "code",
   "execution_count": 38,
   "id": "494067b5",
   "metadata": {},
   "outputs": [
    {
     "name": "stdout",
     "output_type": "stream",
     "text": [
      "{'Tamil Nadu', 'Andaman and Nicobar Islands', 'Himachal Pradesh', 'Punjab', 'Chhattisgarh', 'Odisha', 'Uttarakhand', 'Kerala', 'Jammu and Kashmir ', 'Arunachal Pradesh', 'Bihar', 'Jharkhand'}\n",
      "{'HIMACHAL PRADESH', 'LAKSHADWEEP', 'TAMIL NADU', 'BIHAR', 'UTTARAKHAND', 'CHHATTISGARH', 'JHARKHAND', 'KERALA', 'ORISSA', 'ANDAMAN & NICOBAR ISLANDS', 'ARUNACHAL PRADESH', 'JAMMU & KASHMIR', 'PUNJAB'}\n"
     ]
    }
   ],
   "source": [
    "print(set(valid_states_crop['State_Name']))\n",
    "print(set(valid_states_rain['State']))"
   ]
  },
  {
   "cell_type": "code",
   "execution_count": 39,
   "id": "a4df27ca",
   "metadata": {},
   "outputs": [],
   "source": [
    "valid_states_rain = valid_states_rain[valid_states_rain.State != 'LAKSHADWEEP']\n",
    "valid_states_crop = valid_states_crop.replace('Jammu and Kashmir ','Jammu and Kashmir')\n",
    "valid_states_rain = valid_states_rain.replace('UTTARAKHAND','Uttarakhand')\n",
    "valid_states_rain = valid_states_rain.replace('ORISSA','Odisha')\n",
    "valid_states_rain = valid_states_rain.replace('HIMACHAL PRADESH','Himachal Pradesh')\n",
    "valid_states_rain = valid_states_rain.replace('JHARKHAND','Jharkhand')\n",
    "valid_states_rain = valid_states_rain.replace('ARUNACHAL PRADESH','Arunachal Pradesh')\n",
    "valid_states_rain = valid_states_rain.replace('TAMIL NADU','Tamil Nadu')\n",
    "valid_states_rain = valid_states_rain.replace('CHHATTISGARH','Chhattisgarh')\n",
    "valid_states_rain = valid_states_rain.replace('JAMMU & KASHMIR','Jammu and Kashmir')\n",
    "valid_states_rain = valid_states_rain.replace('ANDAMAN & NICOBAR ISLANDS','Andaman and Nicobar Islands')\n",
    "valid_states_rain = valid_states_rain.replace('BIHAR','Bihar')\n",
    "valid_states_rain = valid_states_rain.replace('PUNJAB','Punjab')\n",
    "valid_states_rain = valid_states_rain.replace('KERALA','Kerala')"
   ]
  },
  {
   "cell_type": "code",
   "execution_count": 40,
   "id": "45c7af0e",
   "metadata": {},
   "outputs": [
    {
     "name": "stdout",
     "output_type": "stream",
     "text": [
      "{'Tamil Nadu', 'Andaman and Nicobar Islands', 'Himachal Pradesh', 'Punjab', 'Chhattisgarh', 'Odisha', 'Uttarakhand', 'Kerala', 'Jammu and Kashmir', 'Arunachal Pradesh', 'Bihar', 'Jharkhand'}\n",
      "{'Tamil Nadu', 'Andaman and Nicobar Islands', 'Punjab', 'Himachal Pradesh', 'Chhattisgarh', 'Odisha', 'Uttarakhand', 'Kerala', 'Jammu and Kashmir', 'Arunachal Pradesh', 'Bihar', 'Jharkhand'}\n"
     ]
    }
   ],
   "source": [
    "print(set(valid_states_crop['State_Name']))\n",
    "print(set(valid_states_rain['State']))"
   ]
  },
  {
   "cell_type": "code",
   "execution_count": 42,
   "id": "7355ac3c",
   "metadata": {},
   "outputs": [],
   "source": [
    "Rainfall_list = [0]*77189\n",
    "valid_states_crop['Rainfall'] = Rainfall_list"
   ]
  },
  {
   "cell_type": "code",
   "execution_count": 43,
   "id": "fcaeaf88",
   "metadata": {},
   "outputs": [
    {
     "name": "stdout",
     "output_type": "stream",
     "text": [
      "                    State_Name District_Name  Crop_Year       Season  \\\n",
      "0  Andaman and Nicobar Islands      NICOBARS       2000  Kharif        \n",
      "1  Andaman and Nicobar Islands      NICOBARS       2000  Kharif        \n",
      "2  Andaman and Nicobar Islands      NICOBARS       2000  Kharif        \n",
      "3  Andaman and Nicobar Islands      NICOBARS       2000  Whole Year    \n",
      "4  Andaman and Nicobar Islands      NICOBARS       2000  Whole Year    \n",
      "\n",
      "                  Crop    Area  Production  Rainfall  \n",
      "0             Arecanut  1254.0      2000.0         0  \n",
      "1  Other Kharif pulses     2.0         1.0         0  \n",
      "2                 Rice   102.0       321.0         0  \n",
      "3               Banana   176.0       641.0         0  \n",
      "4            Cashewnut   720.0       165.0         0  \n",
      "                          State  Year  Rainfall\n",
      "91  Andaman and Nicobar Islands  1997    2755.1\n",
      "92  Andaman and Nicobar Islands  1998    2846.4\n",
      "93  Andaman and Nicobar Islands  1999    2699.7\n",
      "94  Andaman and Nicobar Islands  2000    2763.2\n",
      "95  Andaman and Nicobar Islands  2001    3080.9\n"
     ]
    }
   ],
   "source": [
    "print(valid_states_crop.head())\n",
    "print(valid_states_rain.head())"
   ]
  },
  {
   "cell_type": "code",
   "execution_count": 45,
   "id": "80a55a0e",
   "metadata": {},
   "outputs": [
    {
     "name": "stdout",
     "output_type": "stream",
     "text": [
      "{'Tamil Nadu', 'Andaman and Nicobar Islands', 'Himachal Pradesh', 'Punjab', 'Chhattisgarh', 'Odisha', 'Uttarakhand', 'Kerala', 'Jammu and Kashmir', 'Arunachal Pradesh', 'Bihar', 'Jharkhand'}\n",
      "{1997, 1998, 1999, 2000, 2001, 2002, 2003, 2004, 2005, 2006, 2007, 2008, 2009, 2010, 2011, 2012, 2013, 2014, 2015}\n"
     ]
    }
   ],
   "source": [
    "states_set = set(valid_states_crop['State_Name'])\n",
    "year_set = set(valid_states_crop['Crop_Year'])\n",
    "print(states_set)\n",
    "print(year_set)"
   ]
  },
  {
   "cell_type": "code",
   "execution_count": 49,
   "id": "5d5a1890",
   "metadata": {},
   "outputs": [],
   "source": [
    "for state in states_set:\n",
    "    for year in year_set:\n",
    "        #print(valid_states_crop[valid_states_crop['State']==state]['Year'])\n",
    "        if(year in list(valid_states_crop[valid_states_crop['State_Name']==state]['Crop_Year'])):\n",
    "            #print(state,year)\n",
    "            valid_states_crop.loc[(valid_states_crop['State_Name']==state) & \\\n",
    "                              (valid_states_crop['Crop_Year']==year),'Rainfall']= \\\n",
    "            list(valid_states_rain[(valid_states_rain['State']==state) & \\\n",
    "                                   (valid_states_rain['Year']==year)]['Rainfall'])[0]"
   ]
  },
  {
   "cell_type": "code",
   "execution_count": 50,
   "id": "fa6f92d9",
   "metadata": {},
   "outputs": [
    {
     "data": {
      "text/html": [
       "<div>\n",
       "<style scoped>\n",
       "    .dataframe tbody tr th:only-of-type {\n",
       "        vertical-align: middle;\n",
       "    }\n",
       "\n",
       "    .dataframe tbody tr th {\n",
       "        vertical-align: top;\n",
       "    }\n",
       "\n",
       "    .dataframe thead th {\n",
       "        text-align: right;\n",
       "    }\n",
       "</style>\n",
       "<table border=\"1\" class=\"dataframe\">\n",
       "  <thead>\n",
       "    <tr style=\"text-align: right;\">\n",
       "      <th></th>\n",
       "      <th>State_Name</th>\n",
       "      <th>District_Name</th>\n",
       "      <th>Crop_Year</th>\n",
       "      <th>Season</th>\n",
       "      <th>Crop</th>\n",
       "      <th>Area</th>\n",
       "      <th>Production</th>\n",
       "      <th>Rainfall</th>\n",
       "    </tr>\n",
       "  </thead>\n",
       "  <tbody>\n",
       "    <tr>\n",
       "      <th>0</th>\n",
       "      <td>Andaman and Nicobar Islands</td>\n",
       "      <td>NICOBARS</td>\n",
       "      <td>2000</td>\n",
       "      <td>Kharif</td>\n",
       "      <td>Arecanut</td>\n",
       "      <td>1254.0</td>\n",
       "      <td>2000.0</td>\n",
       "      <td>2763.2</td>\n",
       "    </tr>\n",
       "    <tr>\n",
       "      <th>1</th>\n",
       "      <td>Andaman and Nicobar Islands</td>\n",
       "      <td>NICOBARS</td>\n",
       "      <td>2000</td>\n",
       "      <td>Kharif</td>\n",
       "      <td>Other Kharif pulses</td>\n",
       "      <td>2.0</td>\n",
       "      <td>1.0</td>\n",
       "      <td>2763.2</td>\n",
       "    </tr>\n",
       "    <tr>\n",
       "      <th>2</th>\n",
       "      <td>Andaman and Nicobar Islands</td>\n",
       "      <td>NICOBARS</td>\n",
       "      <td>2000</td>\n",
       "      <td>Kharif</td>\n",
       "      <td>Rice</td>\n",
       "      <td>102.0</td>\n",
       "      <td>321.0</td>\n",
       "      <td>2763.2</td>\n",
       "    </tr>\n",
       "    <tr>\n",
       "      <th>3</th>\n",
       "      <td>Andaman and Nicobar Islands</td>\n",
       "      <td>NICOBARS</td>\n",
       "      <td>2000</td>\n",
       "      <td>Whole Year</td>\n",
       "      <td>Banana</td>\n",
       "      <td>176.0</td>\n",
       "      <td>641.0</td>\n",
       "      <td>2763.2</td>\n",
       "    </tr>\n",
       "    <tr>\n",
       "      <th>4</th>\n",
       "      <td>Andaman and Nicobar Islands</td>\n",
       "      <td>NICOBARS</td>\n",
       "      <td>2000</td>\n",
       "      <td>Whole Year</td>\n",
       "      <td>Cashewnut</td>\n",
       "      <td>720.0</td>\n",
       "      <td>165.0</td>\n",
       "      <td>2763.2</td>\n",
       "    </tr>\n",
       "    <tr>\n",
       "      <th>...</th>\n",
       "      <td>...</td>\n",
       "      <td>...</td>\n",
       "      <td>...</td>\n",
       "      <td>...</td>\n",
       "      <td>...</td>\n",
       "      <td>...</td>\n",
       "      <td>...</td>\n",
       "      <td>...</td>\n",
       "    </tr>\n",
       "    <tr>\n",
       "      <th>236473</th>\n",
       "      <td>Uttarakhand</td>\n",
       "      <td>UTTAR KASHI</td>\n",
       "      <td>2014</td>\n",
       "      <td>Whole Year</td>\n",
       "      <td>Onion</td>\n",
       "      <td>26.0</td>\n",
       "      <td>172.0</td>\n",
       "      <td>1287.4</td>\n",
       "    </tr>\n",
       "    <tr>\n",
       "      <th>236474</th>\n",
       "      <td>Uttarakhand</td>\n",
       "      <td>UTTAR KASHI</td>\n",
       "      <td>2014</td>\n",
       "      <td>Whole Year</td>\n",
       "      <td>Pulses total</td>\n",
       "      <td>5346.0</td>\n",
       "      <td>4630.0</td>\n",
       "      <td>1287.4</td>\n",
       "    </tr>\n",
       "    <tr>\n",
       "      <th>236475</th>\n",
       "      <td>Uttarakhand</td>\n",
       "      <td>UTTAR KASHI</td>\n",
       "      <td>2014</td>\n",
       "      <td>Whole Year</td>\n",
       "      <td>Rice</td>\n",
       "      <td>9919.0</td>\n",
       "      <td>16499.0</td>\n",
       "      <td>1287.4</td>\n",
       "    </tr>\n",
       "    <tr>\n",
       "      <th>236476</th>\n",
       "      <td>Uttarakhand</td>\n",
       "      <td>UTTAR KASHI</td>\n",
       "      <td>2014</td>\n",
       "      <td>Whole Year</td>\n",
       "      <td>Sunflower</td>\n",
       "      <td>3.0</td>\n",
       "      <td>3.0</td>\n",
       "      <td>1287.4</td>\n",
       "    </tr>\n",
       "    <tr>\n",
       "      <th>236477</th>\n",
       "      <td>Uttarakhand</td>\n",
       "      <td>UTTAR KASHI</td>\n",
       "      <td>2014</td>\n",
       "      <td>Whole Year</td>\n",
       "      <td>Total foodgrain</td>\n",
       "      <td>35417.0</td>\n",
       "      <td>49689.0</td>\n",
       "      <td>1287.4</td>\n",
       "    </tr>\n",
       "  </tbody>\n",
       "</table>\n",
       "<p>77189 rows × 8 columns</p>\n",
       "</div>"
      ],
      "text/plain": [
       "                         State_Name District_Name  Crop_Year       Season  \\\n",
       "0       Andaman and Nicobar Islands      NICOBARS       2000  Kharif        \n",
       "1       Andaman and Nicobar Islands      NICOBARS       2000  Kharif        \n",
       "2       Andaman and Nicobar Islands      NICOBARS       2000  Kharif        \n",
       "3       Andaman and Nicobar Islands      NICOBARS       2000  Whole Year    \n",
       "4       Andaman and Nicobar Islands      NICOBARS       2000  Whole Year    \n",
       "...                             ...           ...        ...          ...   \n",
       "236473                  Uttarakhand   UTTAR KASHI       2014  Whole Year    \n",
       "236474                  Uttarakhand   UTTAR KASHI       2014  Whole Year    \n",
       "236475                  Uttarakhand   UTTAR KASHI       2014  Whole Year    \n",
       "236476                  Uttarakhand   UTTAR KASHI       2014  Whole Year    \n",
       "236477                  Uttarakhand   UTTAR KASHI       2014  Whole Year    \n",
       "\n",
       "                       Crop     Area  Production  Rainfall  \n",
       "0                  Arecanut   1254.0      2000.0    2763.2  \n",
       "1       Other Kharif pulses      2.0         1.0    2763.2  \n",
       "2                      Rice    102.0       321.0    2763.2  \n",
       "3                    Banana    176.0       641.0    2763.2  \n",
       "4                 Cashewnut    720.0       165.0    2763.2  \n",
       "...                     ...      ...         ...       ...  \n",
       "236473                Onion     26.0       172.0    1287.4  \n",
       "236474         Pulses total   5346.0      4630.0    1287.4  \n",
       "236475                 Rice   9919.0     16499.0    1287.4  \n",
       "236476            Sunflower      3.0         3.0    1287.4  \n",
       "236477      Total foodgrain  35417.0     49689.0    1287.4  \n",
       "\n",
       "[77189 rows x 8 columns]"
      ]
     },
     "execution_count": 50,
     "metadata": {},
     "output_type": "execute_result"
    }
   ],
   "source": [
    "valid_states_crop"
   ]
  },
  {
   "cell_type": "code",
   "execution_count": 51,
   "id": "019a2f86",
   "metadata": {},
   "outputs": [
    {
     "name": "stdout",
     "output_type": "stream",
     "text": [
      "                    State_Name District_Name  Crop_Year       Season  \\\n",
      "0  Andaman and Nicobar Islands      NICOBARS       2000  Kharif        \n",
      "1  Andaman and Nicobar Islands      NICOBARS       2000  Kharif        \n",
      "2  Andaman and Nicobar Islands      NICOBARS       2000  Kharif        \n",
      "3  Andaman and Nicobar Islands      NICOBARS       2000  Whole Year    \n",
      "4  Andaman and Nicobar Islands      NICOBARS       2000  Whole Year    \n",
      "\n",
      "                  Crop    Area  Production  Rainfall  \n",
      "0             Arecanut  1254.0      2000.0    2763.2  \n",
      "1  Other Kharif pulses     2.0         1.0    2763.2  \n",
      "2                 Rice   102.0       321.0    2763.2  \n",
      "3               Banana   176.0       641.0    2763.2  \n",
      "4            Cashewnut   720.0       165.0    2763.2  \n",
      "{'Horse-gram', 'Gram', 'Other Kharif pulses', 'Turmeric', 'Paddy', 'Coconut ', 'Khesari', 'Banana', 'Carrot', 'Small millets', 'Cashewnut Raw', 'Pineapple', 'Sannhamp', 'Peas & beans (Pulses)', 'Cashewnut', 'Cond-spcs other', 'Sesamum', 'Jowar', 'Other Vegetables', 'Turnip', 'Ginger', 'Sweet potato', 'Other Cereals & Millets', 'Mesta', 'other misc. pulses', 'Cabbage', 'Dry chillies', 'Oilseeds total', 'Cotton(lint)', 'Potato', 'Ragi', 'Papaya', 'Samai', 'Sugarcane', 'Cardamom', 'Barley', 'Niger seed', 'Groundnut', 'Blackgram', 'Drum Stick', 'other oilseeds', 'Rice', 'Soyabean', 'Bajra', 'Korra', 'Tobacco', 'Maize', 'Moong(Green Gram)', 'Redish', 'Masoor', 'Tea', 'Arecanut', 'Tomato', 'Other  Rabi pulses', 'Orange', 'Rubber', 'Total foodgrain', 'Linseed', 'Guar seed', 'Coriander', 'Jute', 'Onion', 'Safflower', 'Sunflower', 'Lentil', 'Urad', 'Varagu', 'Coffee', 'Garlic', 'Rapeseed &Mustard', 'Black pepper', 'Beans & Mutter(Vegetable)', 'Wheat', 'Tapioca', 'Pome Fruit', 'Mango', 'Brinjal', 'Bhindi', 'Pulses total', 'Moth', 'Castor seed', 'Arhar/Tur', 'Dry ginger', 'Citrus Fruit', 'Jack Fruit', 'Grapes'}\n"
     ]
    }
   ],
   "source": [
    "crop_data_alpha = valid_states_crop.dropna()\n",
    "crop_data_alpha = crop_data_alpha[crop_data_alpha.Production !=0.0]\n",
    "print(crop_data_alpha.head())\n",
    "print(set(crop_data_alpha['Crop']))"
   ]
  },
  {
   "cell_type": "code",
   "execution_count": 53,
   "id": "e32bab55",
   "metadata": {},
   "outputs": [
    {
     "name": "stdout",
     "output_type": "stream",
     "text": [
      "                    State_Name   District_Name       Season      Crop    Area  \\\n",
      "0  Andaman and Nicobar Islands        NICOBARS  Kharif       Arecanut  1254.0   \n",
      "1                       Kerala  PATHANAMTHITTA  Whole Year   Arecanut  1343.0   \n",
      "2                   Tamil Nadu      COIMBATORE  Whole Year   Arecanut  1732.0   \n",
      "3                   Tamil Nadu      THIRUVARUR  Whole Year   Arecanut     5.0   \n",
      "4                       Kerala          IDUKKI  Whole Year   Arecanut  4054.0   \n",
      "\n",
      "   Production  Rainfall  \n",
      "0      2000.0    2763.2  \n",
      "1      1317.0    2507.4  \n",
      "2      3280.0     926.5  \n",
      "3         7.0     927.9  \n",
      "4      4351.0    2886.1  \n"
     ]
    }
   ],
   "source": [
    "rop_data_alpha = crop_data_alpha.drop('State_Name',axis = 1)\n",
    "crop_data_alpha = crop_data_alpha.drop('Crop_Year',axis = 1)\n",
    "crop_data_alpha = crop_data_alpha.sort_values(by='Crop')\n",
    "crop_data_alpha = crop_data_alpha.reset_index(drop=True)\n",
    "print(crop_data_alpha.head())"
   ]
  },
  {
   "cell_type": "code",
   "execution_count": 54,
   "id": "9745e75b",
   "metadata": {},
   "outputs": [
    {
     "data": {
      "text/html": [
       "<div>\n",
       "<style scoped>\n",
       "    .dataframe tbody tr th:only-of-type {\n",
       "        vertical-align: middle;\n",
       "    }\n",
       "\n",
       "    .dataframe tbody tr th {\n",
       "        vertical-align: top;\n",
       "    }\n",
       "\n",
       "    .dataframe thead th {\n",
       "        text-align: right;\n",
       "    }\n",
       "</style>\n",
       "<table border=\"1\" class=\"dataframe\">\n",
       "  <thead>\n",
       "    <tr style=\"text-align: right;\">\n",
       "      <th></th>\n",
       "      <th>State_Name</th>\n",
       "      <th>District_Name</th>\n",
       "      <th>Season</th>\n",
       "      <th>Crop</th>\n",
       "      <th>Area</th>\n",
       "      <th>Production</th>\n",
       "      <th>Rainfall</th>\n",
       "    </tr>\n",
       "  </thead>\n",
       "  <tbody>\n",
       "    <tr>\n",
       "      <th>0</th>\n",
       "      <td>Andaman and Nicobar Islands</td>\n",
       "      <td>NICOBARS</td>\n",
       "      <td>Kharif</td>\n",
       "      <td>Arecanut</td>\n",
       "      <td>1254.0</td>\n",
       "      <td>1.594896</td>\n",
       "      <td>2763.2</td>\n",
       "    </tr>\n",
       "    <tr>\n",
       "      <th>1</th>\n",
       "      <td>Kerala</td>\n",
       "      <td>PATHANAMTHITTA</td>\n",
       "      <td>Whole Year</td>\n",
       "      <td>Arecanut</td>\n",
       "      <td>1343.0</td>\n",
       "      <td>0.980640</td>\n",
       "      <td>2507.4</td>\n",
       "    </tr>\n",
       "    <tr>\n",
       "      <th>2</th>\n",
       "      <td>Tamil Nadu</td>\n",
       "      <td>COIMBATORE</td>\n",
       "      <td>Whole Year</td>\n",
       "      <td>Arecanut</td>\n",
       "      <td>1732.0</td>\n",
       "      <td>1.893764</td>\n",
       "      <td>926.5</td>\n",
       "    </tr>\n",
       "    <tr>\n",
       "      <th>3</th>\n",
       "      <td>Tamil Nadu</td>\n",
       "      <td>THIRUVARUR</td>\n",
       "      <td>Whole Year</td>\n",
       "      <td>Arecanut</td>\n",
       "      <td>5.0</td>\n",
       "      <td>1.400000</td>\n",
       "      <td>927.9</td>\n",
       "    </tr>\n",
       "    <tr>\n",
       "      <th>4</th>\n",
       "      <td>Kerala</td>\n",
       "      <td>IDUKKI</td>\n",
       "      <td>Whole Year</td>\n",
       "      <td>Arecanut</td>\n",
       "      <td>4054.0</td>\n",
       "      <td>1.073261</td>\n",
       "      <td>2886.1</td>\n",
       "    </tr>\n",
       "  </tbody>\n",
       "</table>\n",
       "</div>"
      ],
      "text/plain": [
       "                    State_Name   District_Name       Season      Crop    Area  \\\n",
       "0  Andaman and Nicobar Islands        NICOBARS  Kharif       Arecanut  1254.0   \n",
       "1                       Kerala  PATHANAMTHITTA  Whole Year   Arecanut  1343.0   \n",
       "2                   Tamil Nadu      COIMBATORE  Whole Year   Arecanut  1732.0   \n",
       "3                   Tamil Nadu      THIRUVARUR  Whole Year   Arecanut     5.0   \n",
       "4                       Kerala          IDUKKI  Whole Year   Arecanut  4054.0   \n",
       "\n",
       "   Production  Rainfall  \n",
       "0    1.594896    2763.2  \n",
       "1    0.980640    2507.4  \n",
       "2    1.893764     926.5  \n",
       "3    1.400000     927.9  \n",
       "4    1.073261    2886.1  "
      ]
     },
     "execution_count": 54,
     "metadata": {},
     "output_type": "execute_result"
    }
   ],
   "source": [
    "for index,row in crop_data_alpha.iterrows():\n",
    "    crop_data_alpha.loc[index,'Production'] = row['Production']/row['Area']\n",
    "crop_data_alpha.head()"
   ]
  },
  {
   "cell_type": "code",
   "execution_count": 55,
   "id": "9c2d7b96",
   "metadata": {},
   "outputs": [
    {
     "name": "stdout",
     "output_type": "stream",
     "text": [
      "2584\n",
      "              State_Name District_Name       Season   Crop      Area  \\\n",
      "72181             Punjab     FIROZEPUR  Rabi         Wheat  383000.0   \n",
      "72182              Bihar     MADHUBANI  Rabi         Wheat   92281.0   \n",
      "72183  Arunachal Pradesh    PAPUM PARE  Rabi         Wheat     165.0   \n",
      "72184  Arunachal Pradesh    PAPUM PARE  Rabi         Wheat     160.0   \n",
      "72185              Bihar     MADHEPURA  Rabi         Wheat   38673.0   \n",
      "\n",
      "       Production  Rainfall  \n",
      "72181    4.140992     424.6  \n",
      "72182    0.805388    1147.8  \n",
      "72183    1.666667    2036.0  \n",
      "72184    1.750000    2335.5  \n",
      "72185    3.301166    1097.1  \n",
      "      State_Name District_Name       Season   Crop  Area  Production  Rainfall\n",
      "73525     Kerala        IDUKKI  Whole Year   Wheat   1.0         3.0    3046.4\n"
     ]
    }
   ],
   "source": [
    "wheat_data = crop_data_alpha[crop_data_alpha['Crop']=='Wheat']\n",
    "print(len(wheat_data))\n",
    "print(wheat_data.head())\n",
    "print(wheat_data[wheat_data['Production']==3.0])"
   ]
  },
  {
   "cell_type": "code",
   "execution_count": 56,
   "id": "ec53ff78",
   "metadata": {},
   "outputs": [
    {
     "data": {
      "text/plain": [
       "<matplotlib.collections.PathCollection at 0x250e26fcb80>"
      ]
     },
     "execution_count": 56,
     "metadata": {},
     "output_type": "execute_result"
    },
    {
     "data": {
      "image/png": "[encoded data removed]",
      "text/plain": [
       "<Figure size 432x288 with 1 Axes>"
      ]
     },
     "metadata": {
      "needs_background": "light"
     },
     "output_type": "display_data"
    }
   ],
   "source": [
    "plt.scatter(wheat_data['Production'],wheat_data['Rainfall'])"
   ]
  },
  {
   "cell_type": "code",
   "execution_count": 61,
   "id": "f6c0a9d2",
   "metadata": {},
   "outputs": [
    {
     "data": {
      "text/plain": [
       "<matplotlib.collections.PathCollection at 0x250e5b24ca0>"
      ]
     },
     "execution_count": 61,
     "metadata": {},
     "output_type": "execute_result"
    },
    {
     "data": {
      "image/png": "[encoded data removed]",
      "text/plain": [
       "<Figure size 432x288 with 1 Axes>"
      ]
     },
     "metadata": {
      "needs_background": "light"
     },
     "output_type": "display_data"
    }
   ],
   "source": [
    "potato_data = crop_data_alpha[crop_data_alpha['Crop']=='Banana']\n",
    "plt.scatter(potato_data['Production'],potato_data['Rainfall'])"
   ]
  },
  {
   "cell_type": "code",
   "execution_count": null,
   "id": "09eead3b",
   "metadata": {},
   "outputs": [],
   "source": []
  }
 ],
 "metadata": {
  "interpreter": {
   "hash": "472f2bfdb8a6d4f4a0a425e6d64f2d4ee3c2347b8e711a61fa43ce139c3db035"
  },
  "kernelspec": {
   "display_name": "Python 3.9.1 64-bit ('hackthon': virtualenv)",
   "name": "python3"
  },
  "language_info": {
   "codemirror_mode": {
    "name": "ipython",
    "version": 3
   },
   "file_extension": ".py",
   "mimetype": "text/x-python",
   "name": "python",
   "nbconvert_exporter": "python",
   "pygments_lexer": "ipython3",
   "version": "3.9.1"
  }
 },
 "nbformat": 4,
 "nbformat_minor": 5
}
